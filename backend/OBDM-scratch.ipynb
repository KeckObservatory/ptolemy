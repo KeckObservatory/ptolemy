{
 "cells": [
  {
   "cell_type": "code",
   "execution_count": 1,
   "id": "345120d8-706a-45cd-8fd5-c429e9c17c4e",
   "metadata": {},
   "outputs": [],
   "source": [
    "import os\n",
    "import numpy as np\n",
    "import astropy as ap\n",
    "from astropy.coordinates import SkyCoord, EarthLocation, AltAz, get_moon\n",
    "from astropy.coordinates.angle_utilities import angular_separation\n",
    "import astropy.units as u\n",
    "from astropy.time import Time\n",
    "from astroplan import Observer\n",
    "from datetime import datetime, timedelta\n",
    "from collections import namedtuple, OrderedDict"
   ]
  },
  {
   "cell_type": "code",
   "execution_count": 2,
   "id": "ecb0ce96-63f1-4c77-bba9-bcbd2e8a2bc1",
   "metadata": {},
   "outputs": [],
   "source": [
    "ob = {\n",
    "                \"metadata\": {\n",
    "                \"name\": \"standard stars #9\",\n",
    "                \"pi_id\": 7766,\n",
    "                \"sem_id\": \"2021B_K0008\",\n",
    "                \"instrument\": \"KCWI\",\n",
    "                \"comment\": \"I'm a scholar. I enjoy scholarly pursuits.\"\n",
    "            },\n",
    "            \"version\": \"0.1\",\n",
    "            \"sequences\": [{\n",
    "                \"name\": \"completed\",\n",
    "                \"version\": \"0.1\",\n",
    "                \"det1_exptime\": 1637,\n",
    "                \"det1_nexp\": 88,\n",
    "                \"det2_exptime\": 3185,\n",
    "                \"det2_nexp\": 94,\n",
    "                \"cfg_cam_grating\": \"RL\",\n",
    "                \"cfg_cam_cwave\": 7581,\n",
    "                \"cfg_slicer\": \"Medium\"\n",
    "            }],\n",
    "            \"acquisition\":{\"name\":\"KCWI_ifu_acq_direct\",\n",
    "            \"guider_gs_dec\":30.2401,\n",
    "            \"guider_gs_mode\":\n",
    "            \"User\",\n",
    "            \"guider_gs_ra\":3.5337,\n",
    "            \"guider_po\":\"IFU\",\n",
    "            \"script\":\"KCWI_ifu_acq_direct\",\n",
    "            \"version\":\"0.1\"},\n",
    "            \"associations\": [\n",
    "                \"jrai\",\n",
    "                \"bqtm\",\n",
    "                \"hcon\"\n",
    "            ],\n",
    "            \"priority\": 28.82745766552508,\n",
    "            \"status\": {\n",
    "                \"state\": \"inqueue\",\n",
    "                \"executions\": [\n",
    "                \"2019-06-07 03:07:32\",\n",
    "                \"2018-02-16 08:38:32\",\n",
    "                ]\n",
    "            },\n",
    "            \"target\" : {\n",
    "                \"name\" : \"rxmy\",\n",
    "                \"ra\" : \"17:31:16\",\n",
    "                \"dec\" : \"+33:27:43\",\n",
    "                \"equinox\" : \"J2000\",\n",
    "                \"frame\" : \"sghi\",\n",
    "                \"ra_offset\" : 1.6936631786804168,\n",
    "                \"dec_offset\" : 7.48251275931961,\n",
    "                \"pa\" : 7.085909143633636,\n",
    "                \"pm_ra\" : 8.70563085605572,\n",
    "                \"pm_dec\" : 0.6143121450706313,\n",
    "                \"epoch\" : 2000,\n",
    "                \"obstime\" : \"2021-04-22 15:08:04\",\n",
    "                \"magnitude\" : [\n",
    "                    {\n",
    "                        \"band\" : \"V\",\n",
    "                        \"magnitude\" : 0.9799051741031348\n",
    "                    },\n",
    "                    {\n",
    "                        \"band\" : \"I\",\n",
    "                        \"magnitude\" : 0.7003428020962619\n",
    "                    }\n",
    "                ],\n",
    "                \"wrap\" : \"north\",\n",
    "                \"d_ra\" : 0.12075887611724401,\n",
    "                \"d_dec\" : 6.329640885945703,\n",
    "                \"comment\" : \"I hear the jury?s still out on science.\"\n",
    "            },\n",
    "            \"_id\": \"0\"\n",
    "            }"
   ]
  },
  {
   "cell_type": "code",
   "execution_count": 3,
   "id": "28b6d098-c316-4792-ae5b-10d260eee1ae",
   "metadata": {},
   "outputs": [
    {
     "name": "stdout",
     "output_type": "stream",
     "text": [
      "A_SCRIPT_NAME\n"
     ]
    }
   ],
   "source": [
    "tup = (\"A_SCRIPT_NAME\", \"SCRIPT_STATEMENT\", \"VERSION 1\")\n",
    "tupScripts = [tup] # immutable object, does not inclue names, array preserves order\n",
    "name = tupScripts[0][0]\n",
    "a = [print(tup[0]) for tup in tupScripts]"
   ]
  },
  {
   "cell_type": "code",
   "execution_count": 4,
   "id": "83b6896f-c2a0-48af-abf2-c02157369c8e",
   "metadata": {},
   "outputs": [],
   "source": [
    "Script = namedtuple('Script', ['name', 'script', 'version']) # immutable object, includes names and expected structure"
   ]
  },
  {
   "cell_type": "code",
   "execution_count": 5,
   "id": "45042929-b97a-4c40-ba74-1c9e410619df",
   "metadata": {},
   "outputs": [
    {
     "name": "stdout",
     "output_type": "stream",
     "text": [
      "A_SCRIPT_NAME\n"
     ]
    }
   ],
   "source": [
    "namedTup = Script(\"A_SCRIPT_NAME\", \"SCRIPT\", \"VERSION 1\")\n",
    "namedTupleScripts = [ namedTup ]# array preserves order\n",
    "name = namedTupleScripts[0].name # gets item by index followed by key\n",
    "a = [print(x.name) for x in namedTupleScripts]"
   ]
  },
  {
   "cell_type": "code",
   "execution_count": 6,
   "id": "f3c1bbf5-d03c-428b-9be9-c444b3e28b93",
   "metadata": {},
   "outputs": [
    {
     "name": "stdout",
     "output_type": "stream",
     "text": [
      "A_SCRIPT_NAME\n"
     ]
    }
   ],
   "source": [
    "od = {\"A_SCRIPT_NAME\": namedTup} # Mutable object\n",
    "orderedDictScripts = OrderedDict(od) # Order is perserved\n",
    "name = orderedDictScripts.get(\"A_SCRIPT_NAME\").name # get script item by dict key followed by named tuple key.\n",
    "a = [print(script.name) for key, script in orderedDictScripts.items()]"
   ]
  },
  {
   "cell_type": "code",
   "execution_count": 8,
   "id": "49b77c0d-20a1-449b-93a8-0ef922cee3fc",
   "metadata": {},
   "outputs": [],
   "source": [
    "target = ob.get('target')"
   ]
  },
  {
   "cell_type": "code",
   "execution_count": 9,
   "id": "44b34905-96b9-42d9-b5b8-74298676c350",
   "metadata": {},
   "outputs": [
    {
     "name": "stdout",
     "output_type": "stream",
     "text": [
      "17:31:16, +33:27:43\n"
     ]
    }
   ],
   "source": [
    "ra, dec = target.get('ra'), target.get('dec')\n",
    "print(f'{ra}, {dec}')"
   ]
  },
  {
   "cell_type": "code",
   "execution_count": 10,
   "id": "68949553-d19f-4a8f-9863-057d73715e35",
   "metadata": {},
   "outputs": [],
   "source": [
    "keck = EarthLocation.of_site('Keck Observatory')\n",
    "keckObs = Observer.at_site(\"Keck Observatory\", timezone=\"US/Hawaii\")"
   ]
  },
  {
   "cell_type": "code",
   "execution_count": 11,
   "id": "a0592b34-7265-4833-8385-b935599b1274",
   "metadata": {},
   "outputs": [
    {
     "name": "stdout",
     "output_type": "stream",
     "text": [
      "using today's midnight\n"
     ]
    }
   ],
   "source": [
    "tgt = SkyCoord(ra=ra, dec=dec, frame='icrs', unit=(u.hourangle, u.deg))\n",
    "hourOffset = -10\n",
    "utcoffset = hourOffset * u.hour  # Hawaii Daylight Time\n",
    "now = datetime.now() - timedelta(hours=hourOffset)\n",
    "time = Time(now)\n",
    "nearestSet = keckObs.sun_set_time(time, which='nearest')\n",
    "\n",
    "todayMidnight = now.replace(hour=0, minute=0, second=0, microsecond=0)\n",
    "if time < nearestSet: # today's sunrise already occured\n",
    "    print('using today\\'s midnight')\n",
    "    midnight = Time(todayMidnight) - utcoffset\n",
    "else: # today's sunrise has not risen yet\n",
    "    print('using yesterday\\'s midnight')\n",
    "    yesterdayMidnight = todayMidnight - timedelta(days=1)\n",
    "    midnight = Time(now.replace()) - utcoffset\n",
    "\n",
    "deltaMidnight = np.linspace(-5, 5, 100)*u.hour\n",
    "times = midnight+deltaMidnight\n",
    "tgtFrame = AltAz(obstime=times, location=keck)\n",
    "tgtTraj = tgt.transform_to(tgtFrame)\n",
    "tgtAirmass = tgtTraj.secz\n",
    "\n"
   ]
  },
  {
   "cell_type": "code",
   "execution_count": 12,
   "id": "5321f9a3-e63c-4b88-bd45-5359f35a19f3",
   "metadata": {},
   "outputs": [],
   "source": [
    "DEG_TO_RAD = np.pi/180\n",
    "to_rad = lambda x: DEG_TO_RAD * x"
   ]
  },
  {
   "cell_type": "code",
   "execution_count": 13,
   "id": "f53f9936-a454-473e-8ff8-604e2ad3649a",
   "metadata": {},
   "outputs": [],
   "source": [
    "moonTraj = get_moon(times, location=keck).transform_to(tgtFrame)\n",
    "latLngTgtMoon = list(zip(tgtTraj.az, tgtTraj.alt, moonTraj.az, moonTraj.alt))\n",
    "latLngTgtMoon = [ [x.radian for x in sublist] for sublist in latLngTgtMoon ]\n",
    "angleOfSeparation = [angular_separation(*x) / DEG_TO_RAD for x in latLngTgtMoon] # in deg\n",
    "parallaticAngle = keckObs.parallactic_angle(times, tgt).deg # in deg"
   ]
  },
  {
   "cell_type": "code",
   "execution_count": 100,
   "id": "5a10f30b-16f8-4cf6-8791-da8963b8c413",
   "metadata": {},
   "outputs": [
    {
     "data": {
      "text/plain": [
       "array([108.64515271, 107.16299551, 105.75867637, 104.42406007,\n",
       "       103.15196648, 101.93604486, 100.77066472,  99.65082123,\n",
       "        98.57205358,  97.53037464,  96.5222103 ,  95.54434719,\n",
       "        94.59388754,  93.66821021,  92.76493697,  91.88190323,\n",
       "        91.01713265,  90.16881501,  89.33528688,  88.51501478,\n",
       "        87.70658036,  86.90866735,  86.12005013,  85.33958358,\n",
       "        84.56619412,  83.79887171,  83.03666277,  82.27866383,\n",
       "        81.52401587,  80.77189923,  80.02152897,  79.27215082,\n",
       "        78.52303733,  77.77348457,  77.02280896,  76.27034449,\n",
       "        75.51544015,  74.75745753,  73.99576867,  73.2297541 ,\n",
       "        72.45880095,  71.68230133,  70.89965071,  70.11024658,\n",
       "        69.31348705,  68.50876976,  67.69549072,  66.87304338,\n",
       "        66.04081777,  65.19819975,  64.34457038,  63.47930539,\n",
       "        62.60177485,  61.71134286,  60.80736751,  59.8892009 ,\n",
       "        58.95618942,  58.00767415,  57.0429915 ,  56.06147408,\n",
       "        55.06245185,  54.04525346,  53.00920797,  51.95364688,\n",
       "        50.87790649,  49.78133062,  48.66327382,  47.52310491,\n",
       "        46.36021107,  45.17400233,  43.96391657,  42.72942511,\n",
       "        41.47003867,  40.18531391,  38.87486048,  37.53834841,\n",
       "        36.17551603,  34.78617809,  33.37023425,  31.92767761,\n",
       "        30.45860324,  28.96321665,  27.44184178,  25.89492859,\n",
       "        24.32305975,  22.72695647,  21.10748302,  19.46564976,\n",
       "        17.80261454,  16.11968213,  14.41830158,  12.70006133,\n",
       "        10.96668207,   9.22000716,   7.4619909 ,   5.69468456,\n",
       "         3.92022046,   2.14079437,   0.3586466 ,  -1.42395797])"
      ]
     },
     "execution_count": 100,
     "metadata": {},
     "output_type": "execute_result"
    }
   ],
   "source": [
    "parallaticAngle"
   ]
  },
  {
   "cell_type": "code",
   "execution_count": 14,
   "id": "c68e9e80-ce73-45de-8dd7-0ebb2fb5545b",
   "metadata": {},
   "outputs": [
    {
     "data": {
      "text/plain": [
       "<AltAz Frame (obstime=[datetime.datetime(2021, 10, 8, 5, 0)\n",
       " datetime.datetime(2021, 10, 8, 5, 6, 3, 636364)\n",
       " datetime.datetime(2021, 10, 8, 5, 12, 7, 272727)\n",
       " datetime.datetime(2021, 10, 8, 5, 18, 10, 909091)\n",
       " datetime.datetime(2021, 10, 8, 5, 24, 14, 545455)\n",
       " datetime.datetime(2021, 10, 8, 5, 30, 18, 181818)\n",
       " datetime.datetime(2021, 10, 8, 5, 36, 21, 818182)\n",
       " datetime.datetime(2021, 10, 8, 5, 42, 25, 454545)\n",
       " datetime.datetime(2021, 10, 8, 5, 48, 29, 90909)\n",
       " datetime.datetime(2021, 10, 8, 5, 54, 32, 727273)\n",
       " datetime.datetime(2021, 10, 8, 6, 0, 36, 363636)\n",
       " datetime.datetime(2021, 10, 8, 6, 6, 40)\n",
       " datetime.datetime(2021, 10, 8, 6, 12, 43, 636364)\n",
       " datetime.datetime(2021, 10, 8, 6, 18, 47, 272727)\n",
       " datetime.datetime(2021, 10, 8, 6, 24, 50, 909091)\n",
       " datetime.datetime(2021, 10, 8, 6, 30, 54, 545455)\n",
       " datetime.datetime(2021, 10, 8, 6, 36, 58, 181818)\n",
       " datetime.datetime(2021, 10, 8, 6, 43, 1, 818182)\n",
       " datetime.datetime(2021, 10, 8, 6, 49, 5, 454545)\n",
       " datetime.datetime(2021, 10, 8, 6, 55, 9, 90909)\n",
       " datetime.datetime(2021, 10, 8, 7, 1, 12, 727273)\n",
       " datetime.datetime(2021, 10, 8, 7, 7, 16, 363636)\n",
       " datetime.datetime(2021, 10, 8, 7, 13, 20)\n",
       " datetime.datetime(2021, 10, 8, 7, 19, 23, 636364)\n",
       " datetime.datetime(2021, 10, 8, 7, 25, 27, 272727)\n",
       " datetime.datetime(2021, 10, 8, 7, 31, 30, 909091)\n",
       " datetime.datetime(2021, 10, 8, 7, 37, 34, 545455)\n",
       " datetime.datetime(2021, 10, 8, 7, 43, 38, 181818)\n",
       " datetime.datetime(2021, 10, 8, 7, 49, 41, 818182)\n",
       " datetime.datetime(2021, 10, 8, 7, 55, 45, 454545)\n",
       " datetime.datetime(2021, 10, 8, 8, 1, 49, 90909)\n",
       " datetime.datetime(2021, 10, 8, 8, 7, 52, 727273)\n",
       " datetime.datetime(2021, 10, 8, 8, 13, 56, 363636)\n",
       " datetime.datetime(2021, 10, 8, 8, 20)\n",
       " datetime.datetime(2021, 10, 8, 8, 26, 3, 636364)\n",
       " datetime.datetime(2021, 10, 8, 8, 32, 7, 272727)\n",
       " datetime.datetime(2021, 10, 8, 8, 38, 10, 909091)\n",
       " datetime.datetime(2021, 10, 8, 8, 44, 14, 545455)\n",
       " datetime.datetime(2021, 10, 8, 8, 50, 18, 181818)\n",
       " datetime.datetime(2021, 10, 8, 8, 56, 21, 818182)\n",
       " datetime.datetime(2021, 10, 8, 9, 2, 25, 454545)\n",
       " datetime.datetime(2021, 10, 8, 9, 8, 29, 90909)\n",
       " datetime.datetime(2021, 10, 8, 9, 14, 32, 727273)\n",
       " datetime.datetime(2021, 10, 8, 9, 20, 36, 363636)\n",
       " datetime.datetime(2021, 10, 8, 9, 26, 40)\n",
       " datetime.datetime(2021, 10, 8, 9, 32, 43, 636364)\n",
       " datetime.datetime(2021, 10, 8, 9, 38, 47, 272727)\n",
       " datetime.datetime(2021, 10, 8, 9, 44, 50, 909091)\n",
       " datetime.datetime(2021, 10, 8, 9, 50, 54, 545455)\n",
       " datetime.datetime(2021, 10, 8, 9, 56, 58, 181818)\n",
       " datetime.datetime(2021, 10, 8, 10, 3, 1, 818182)\n",
       " datetime.datetime(2021, 10, 8, 10, 9, 5, 454545)\n",
       " datetime.datetime(2021, 10, 8, 10, 15, 9, 90909)\n",
       " datetime.datetime(2021, 10, 8, 10, 21, 12, 727273)\n",
       " datetime.datetime(2021, 10, 8, 10, 27, 16, 363636)\n",
       " datetime.datetime(2021, 10, 8, 10, 33, 20)\n",
       " datetime.datetime(2021, 10, 8, 10, 39, 23, 636364)\n",
       " datetime.datetime(2021, 10, 8, 10, 45, 27, 272727)\n",
       " datetime.datetime(2021, 10, 8, 10, 51, 30, 909091)\n",
       " datetime.datetime(2021, 10, 8, 10, 57, 34, 545455)\n",
       " datetime.datetime(2021, 10, 8, 11, 3, 38, 181818)\n",
       " datetime.datetime(2021, 10, 8, 11, 9, 41, 818182)\n",
       " datetime.datetime(2021, 10, 8, 11, 15, 45, 454545)\n",
       " datetime.datetime(2021, 10, 8, 11, 21, 49, 90909)\n",
       " datetime.datetime(2021, 10, 8, 11, 27, 52, 727273)\n",
       " datetime.datetime(2021, 10, 8, 11, 33, 56, 363636)\n",
       " datetime.datetime(2021, 10, 8, 11, 40)\n",
       " datetime.datetime(2021, 10, 8, 11, 46, 3, 636364)\n",
       " datetime.datetime(2021, 10, 8, 11, 52, 7, 272727)\n",
       " datetime.datetime(2021, 10, 8, 11, 58, 10, 909091)\n",
       " datetime.datetime(2021, 10, 8, 12, 4, 14, 545455)\n",
       " datetime.datetime(2021, 10, 8, 12, 10, 18, 181818)\n",
       " datetime.datetime(2021, 10, 8, 12, 16, 21, 818182)\n",
       " datetime.datetime(2021, 10, 8, 12, 22, 25, 454545)\n",
       " datetime.datetime(2021, 10, 8, 12, 28, 29, 90909)\n",
       " datetime.datetime(2021, 10, 8, 12, 34, 32, 727273)\n",
       " datetime.datetime(2021, 10, 8, 12, 40, 36, 363636)\n",
       " datetime.datetime(2021, 10, 8, 12, 46, 40)\n",
       " datetime.datetime(2021, 10, 8, 12, 52, 43, 636364)\n",
       " datetime.datetime(2021, 10, 8, 12, 58, 47, 272727)\n",
       " datetime.datetime(2021, 10, 8, 13, 4, 50, 909091)\n",
       " datetime.datetime(2021, 10, 8, 13, 10, 54, 545455)\n",
       " datetime.datetime(2021, 10, 8, 13, 16, 58, 181818)\n",
       " datetime.datetime(2021, 10, 8, 13, 23, 1, 818182)\n",
       " datetime.datetime(2021, 10, 8, 13, 29, 5, 454545)\n",
       " datetime.datetime(2021, 10, 8, 13, 35, 9, 90909)\n",
       " datetime.datetime(2021, 10, 8, 13, 41, 12, 727273)\n",
       " datetime.datetime(2021, 10, 8, 13, 47, 16, 363636)\n",
       " datetime.datetime(2021, 10, 8, 13, 53, 20)\n",
       " datetime.datetime(2021, 10, 8, 13, 59, 23, 636364)\n",
       " datetime.datetime(2021, 10, 8, 14, 5, 27, 272727)\n",
       " datetime.datetime(2021, 10, 8, 14, 11, 30, 909091)\n",
       " datetime.datetime(2021, 10, 8, 14, 17, 34, 545455)\n",
       " datetime.datetime(2021, 10, 8, 14, 23, 38, 181818)\n",
       " datetime.datetime(2021, 10, 8, 14, 29, 41, 818182)\n",
       " datetime.datetime(2021, 10, 8, 14, 35, 45, 454545)\n",
       " datetime.datetime(2021, 10, 8, 14, 41, 49, 90909)\n",
       " datetime.datetime(2021, 10, 8, 14, 47, 52, 727273)\n",
       " datetime.datetime(2021, 10, 8, 14, 53, 56, 363636)\n",
       " datetime.datetime(2021, 10, 8, 15, 0)], location=(-5464487.81759887, -2492806.59108569, 2151240.19451846) m, pressure=0.0 hPa, temperature=0.0 deg_C, relative_humidity=0.0, obswl=1.0 micron)>"
      ]
     },
     "execution_count": 14,
     "metadata": {},
     "output_type": "execute_result"
    }
   ],
   "source": [
    "tgtFrame"
   ]
  },
  {
   "cell_type": "code",
   "execution_count": 80,
   "id": "81c04a8f-4b12-4a13-9142-bcc4073a1756",
   "metadata": {},
   "outputs": [],
   "source": [
    "delta_midnight = np.linspace(-5, 5, 100)*u.hour"
   ]
  },
  {
   "cell_type": "code",
   "execution_count": 85,
   "id": "03b2bd79-0806-47cd-9e4b-eda89cfc887d",
   "metadata": {},
   "outputs": [
    {
     "data": {
      "text/plain": [
       "True"
      ]
     },
     "execution_count": 85,
     "metadata": {},
     "output_type": "execute_result"
    }
   ],
   "source": []
  },
  {
   "cell_type": "code",
   "execution_count": 73,
   "id": "39bae4f1-8394-43c4-acd7-3c079d110f2f",
   "metadata": {},
   "outputs": [
    {
     "data": {
      "text/plain": [
       "'2021-10-06 04:02:32.685'"
      ]
     },
     "execution_count": 73,
     "metadata": {},
     "output_type": "execute_result"
    }
   ],
   "source": [
    "endTime"
   ]
  },
  {
   "cell_type": "code",
   "execution_count": 76,
   "id": "4b640c9e-2d70-4576-abbc-c43bda8f2f11",
   "metadata": {},
   "outputs": [
    {
     "data": {
      "text/plain": [
       "<Time object: scale='utc' format='jd' value=2459493.1787716127>"
      ]
     },
     "execution_count": 76,
     "metadata": {},
     "output_type": "execute_result"
    }
   ],
   "source": [
    "startTime"
   ]
  },
  {
   "cell_type": "code",
   "execution_count": 79,
   "id": "9da9fad1-1f14-4825-b8a2-f9f55c01e79d",
   "metadata": {},
   "outputs": [
    {
     "data": {
      "text/plain": [
       "9"
      ]
     },
     "execution_count": 79,
     "metadata": {},
     "output_type": "execute_result"
    }
   ],
   "source": [
    "datetime.now()\n",
    "\n",
    "# if sun hasn't risen use previous day's midnight\n",
    "midnight = Time('2012-7-13 00:00:00') - utcoffset\n",
    "# if sun has risen, use next day's mignight"
   ]
  },
  {
   "cell_type": "code",
   "execution_count": null,
   "id": "00009dcb-1b94-4dec-9c63-bd7d65cf7474",
   "metadata": {},
   "outputs": [],
   "source": []
  }
 ],
 "metadata": {
  "kernelspec": {
   "display_name": "firstEnv",
   "language": "python",
   "name": "firstenv"
  },
  "language_info": {
   "codemirror_mode": {
    "name": "ipython",
    "version": 3
   },
   "file_extension": ".py",
   "mimetype": "text/x-python",
   "name": "python",
   "nbconvert_exporter": "python",
   "pygments_lexer": "ipython3",
   "version": "3.8.5"
  }
 },
 "nbformat": 4,
 "nbformat_minor": 5
}
