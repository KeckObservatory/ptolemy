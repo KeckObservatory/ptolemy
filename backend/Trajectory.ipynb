{
 "cells": [
  {
   "cell_type": "code",
   "execution_count": 2,
   "id": "2034b3ae-1ec3-4b7b-b7d3-51b9b356a6c0",
   "metadata": {},
   "outputs": [],
   "source": [
    "import os\n",
    "import numpy as np\n",
    "import astropy as ap\n",
    "from astropy.coordinates import SkyCoord, EarthLocation, AltAz, get_moon\n",
    "from astropy.coordinates.angle_utilities import angular_separation\n",
    "import astropy.units as u\n",
    "from astropy.time import Time\n",
    "from astroplan import Observer\n",
    "from datetime import datetime, timedelta\n",
    "import pdb"
   ]
  },
  {
   "cell_type": "code",
   "execution_count": 3,
   "id": "2118e4b5-b4d6-47c1-9d45-e5a5729fc7d0",
   "metadata": {},
   "outputs": [],
   "source": [
    "# constants\n",
    "DEG_TO_RAD = np.pi/180\n",
    "hourOffset = -10 # Hawaii is 10 hours behind utc.\n",
    "keck = EarthLocation.of_site('Keck Observatory')\n",
    "keckObs = Observer.at_site(\"Keck Observatory\", timezone=\"US/Hawaii\")\n",
    "utcoffset = hourOffset * u.hour  # Hawaii Daylight Time\n",
    "#inputs (to be input)\n",
    "ra, dec = \"17:31:16\", \"+33:27:43\"\n",
    "now = Time(datetime.now())"
   ]
  },
  {
   "cell_type": "code",
   "execution_count": 4,
   "id": "66e98b09-96d5-41e5-bafa-ff295591a98e",
   "metadata": {},
   "outputs": [
    {
     "data": {
      "text/plain": [
       "<Time object: scale='utc' format='datetime' value=2021-10-18 08:24:33.296227>"
      ]
     },
     "execution_count": 4,
     "metadata": {},
     "output_type": "execute_result"
    }
   ],
   "source": [
    "now"
   ]
  },
  {
   "cell_type": "code",
   "execution_count": 5,
   "id": "dadf6ce7-b557-4d5e-930d-432417103065",
   "metadata": {},
   "outputs": [
    {
     "data": {
      "text/plain": [
       "'2021-10-18 17:52:14.895'"
      ]
     },
     "execution_count": 5,
     "metadata": {},
     "output_type": "execute_result"
    }
   ],
   "source": [
    "nearestSet = keckObs.sun_set_time(Time(now), which='next') + utcoffset\n",
    "nearestSet.iso"
   ]
  },
  {
   "cell_type": "code",
   "execution_count": 37,
   "id": "eb98b93e-cb37-496e-ab6f-2cb6b5c10a8b",
   "metadata": {},
   "outputs": [],
   "source": [
    "def get_midnight(now):\n",
    "    utcoffset = hourOffset * u.hour  # Hawaii Daylight Time\n",
    "    nextSet = keckObs.sun_set_time(now, which='next') \n",
    "    nextRise = keckObs.sun_rise_time(now, which='next') \n",
    "    if nextRise > nextSet: # today's midnight already occured\n",
    "        print('using today\\'s midnight')\n",
    "        midnight= Time(keckObs.midnight(now+timedelta(days=1), which='next'))\n",
    "    else: \n",
    "        print('using yesterday\\'s midnight')\n",
    "        midnight = Time(keckObs.midnight(now, which='nearest'))\n",
    "    return midnight + utcoffset\n",
    "\n",
    "def get_times(midnight):\n",
    "    deltaMidnight = np.linspace(-6, 6, 20)*u.hour\n",
    "    return midnight+deltaMidnight\n",
    "\n",
    "def get_target_frame():\n",
    "    now = Time(datetime.now())\n",
    "    midnight = get_midnight(now)\n",
    "    times = get_times(midnight)\n",
    "    tgtFrame = AltAz(obstime=times, location=keck)\n",
    "    return tgtFrame\n",
    "\n",
    "def get_local_sidereal_time():\n",
    "    now = Time(datetime.now())\n",
    "    midnight = get_midnight(now)\n",
    "    \n",
    "\n",
    "def get_target_traj(ra, dec):\n",
    "    tgt = SkyCoord(ra=ra, dec=dec, frame='icrs', unit=(u.hourangle, u.deg))\n",
    "    tgtFrame = get_target_frame()\n",
    "    tgtTraj = tgt.transform_to(tgtFrame)\n",
    "    return tgtTraj \n",
    "\n",
    "def get_air_mass(ra, dec):\n",
    "    tgt = SkyCoord(ra=ra, dec=dec, frame='icrs', unit=(u.hourangle, u.deg))\n",
    "    tgtTraj = get_target_traj(tgt)\n",
    "    return tgtTraj.secz\n",
    "\n",
    "def get_parallactic_angle(ra, dec):\n",
    "    tgt = SkyCoord(ra=ra, dec=dec, frame='icrs', unit=(u.hourangle, u.deg))\n",
    "    now = Time(datetime.now() - timedelta(hours=hourOffset))\n",
    "    midnight = get_midnight(now)\n",
    "    times = get_times(midnight)\n",
    "    return keckObs.parallactic_angle(times, tgt).deg # in deg\n",
    "\n",
    "def get_lunar_angle(ra, dec):\n",
    "    tgt = SkyCoord(ra=ra, dec=dec, frame='icrs', unit=(u.hourangle, u.deg))\n",
    "    tgtFrame = get_target_frame()\n",
    "    tgtTraj = tgt.transform_to(tgtFrame)\n",
    "    now = Time(datetime.now() - timedelta(hours=hourOffset))\n",
    "    midnight = get_midnight(now)\n",
    "    times = get_times(midnight)\n",
    "    moonTraj = get_moon(times, location=keck).transform_to(tgtFrame) # can be costly\n",
    "    latLngTgtMoon = list(zip(tgtTraj.az, tgtTraj.alt, moonTraj.az, moonTraj.alt))\n",
    "    latLngTgtMoon = [ [x.radian for x in sublist] for sublist in latLngTgtMoon ]\n",
    "    angleOfSeparation = [angular_separation(*x) / DEG_TO_RAD for x in latLngTgtMoon] # in deg\n",
    "    return angleOfSeparation"
   ]
  },
  {
   "cell_type": "code",
   "execution_count": 48,
   "id": "a07195ff-51fd-400d-af16-2ddc9dca64b3",
   "metadata": {},
   "outputs": [
    {
     "name": "stdout",
     "output_type": "stream",
     "text": [
      "using yesterday's midnight\n",
      "2021-10-18 00:26:00.214\n"
     ]
    },
    {
     "data": {
      "text/latex": [
       "$63^\\circ44{}^\\prime14.47271725{}^{\\prime\\prime}$"
      ],
      "text/plain": [
       "<Latitude 63.73735353 deg>"
      ]
     },
     "execution_count": 48,
     "metadata": {},
     "output_type": "execute_result"
    }
   ],
   "source": [
    "traj = get_target_traj(ra, dec)\n",
    "print(traj.obstime.iso[10])\n",
    "traj.alt[10]"
   ]
  },
  {
   "cell_type": "code",
   "execution_count": 55,
   "id": "8fcf2e73",
   "metadata": {},
   "outputs": [
    {
     "name": "stdout",
     "output_type": "stream",
     "text": [
      "2021-10-18 10:07:05.840\n"
     ]
    },
    {
     "data": {
      "text/plain": [
       "23.413432241655624"
      ]
     },
     "execution_count": 55,
     "metadata": {},
     "output_type": "execute_result"
    }
   ],
   "source": [
    "midnight = keckObs.midnight(now)\n",
    "print(midnight.iso)\n",
    "keckObs.local_sidereal_time(midnight).deg"
   ]
  },
  {
   "cell_type": "code",
   "execution_count": 12,
   "id": "413eccb2-f3bd-452c-83ec-f0c738e8fa84",
   "metadata": {},
   "outputs": [],
   "source": [
    "from astroplan.plots import plot_airmass"
   ]
  },
  {
   "cell_type": "code",
   "execution_count": 13,
   "id": "b00a095c-f1ff-4467-93f9-74ee70936c36",
   "metadata": {},
   "outputs": [
    {
     "data": {
      "image/png": "[encoded data removed]",
      "text/plain": [
       "<Figure size 432x288 with 1 Axes>"
      ]
     },
     "metadata": {
      "needs_background": "light"
     },
     "output_type": "display_data"
    }
   ],
   "source": [
    "import matplotlib.pyplot as plt\n",
    "from astropy.time import Time\n",
    "from astroplan.plots import plot_airmass, plot_altitude\n",
    "\n",
    "tgt = SkyCoord(ra=ra, dec=dec, frame='icrs', unit=(u.hourangle, u.deg))\n",
    "now = Time(datetime.now() - timedelta(hours=hourOffset))\n",
    "plot_altitude(tgt, keckObs, now)\n",
    "plt.show()"
   ]
  },
  {
   "cell_type": "code",
   "execution_count": 14,
   "id": "ffaf46a3-b36a-452d-bc4c-dbf405a9a206",
   "metadata": {},
   "outputs": [
    {
     "name": "stdout",
     "output_type": "stream",
     "text": [
      "using yesterday's midnight\n"
     ]
    }
   ],
   "source": [
    "times = get_target_frame().obstime\n"
   ]
  },
  {
   "cell_type": "code",
   "execution_count": 15,
   "id": "ed1e0879-31c4-4da1-b2a9-d08e7c2b8364",
   "metadata": {},
   "outputs": [],
   "source": [
    "t = Time(times, format='jd', scale='utc')"
   ]
  },
  {
   "cell_type": "code",
   "execution_count": 19,
   "id": "a1d0ae98-063e-46f3-a5f2-7e2bfe6e8953",
   "metadata": {},
   "outputs": [
    {
     "name": "stdout",
     "output_type": "stream",
     "text": [
      "using yesterday's midnight\n"
     ]
    }
   ],
   "source": [
    "now = Time(datetime.now())\n",
    "midnight = get_midnight(now)\n",
    "times = get_times(midnight)"
   ]
  },
  {
   "cell_type": "code",
   "execution_count": 20,
   "id": "eb52aedd-37c0-4ddd-a2e3-b24c82326fed",
   "metadata": {},
   "outputs": [
    {
     "data": {
      "text/plain": [
       "'2021-10-15 00:07:27.843'"
      ]
     },
     "execution_count": 20,
     "metadata": {},
     "output_type": "execute_result"
    }
   ],
   "source": [
    "midnight.iso"
   ]
  },
  {
   "cell_type": "code",
   "execution_count": 21,
   "id": "e7d00d2b-0a1a-4ecd-9d66-09b91a83182a",
   "metadata": {},
   "outputs": [
    {
     "data": {
      "text/plain": [
       "array(['2021-10-14 18:07:27.843', '2021-10-14 18:45:21.527',\n",
       "       '2021-10-14 19:23:15.212', '2021-10-14 20:01:08.896',\n",
       "       '2021-10-14 20:39:02.580', '2021-10-14 21:16:56.264',\n",
       "       '2021-10-14 21:54:49.948', '2021-10-14 22:32:43.633',\n",
       "       '2021-10-14 23:10:37.317', '2021-10-14 23:48:31.001',\n",
       "       '2021-10-15 00:26:24.685', '2021-10-15 01:04:18.370',\n",
       "       '2021-10-15 01:42:12.054', '2021-10-15 02:20:05.738',\n",
       "       '2021-10-15 02:57:59.422', '2021-10-15 03:35:53.106',\n",
       "       '2021-10-15 04:13:46.791', '2021-10-15 04:51:40.475',\n",
       "       '2021-10-15 05:29:34.159', '2021-10-15 06:07:27.843'], dtype='<U23')"
      ]
     },
     "execution_count": 21,
     "metadata": {},
     "output_type": "execute_result"
    }
   ],
   "source": [
    "times.iso"
   ]
  },
  {
   "cell_type": "code",
   "execution_count": 53,
   "id": "b2dc5807-8588-43f8-b558-51163d0ec99e",
   "metadata": {},
   "outputs": [],
   "source": [
    "def get_midnight(now):\n",
    "    nearestSet = keckObs.sun_set_time(now, which='nearest')\n",
    "    utcoffset = hourOffset * u.hour  # Hawaii Daylight Time\n",
    "    todayMidnight = keckObs.midnight(now, which='next')\n",
    "    if now < nearestSet: # today's sunrise already occured\n",
    "        print('using today\\'s midnight')\n",
    "        midnight = Time(todayMidnight) - utcoffset\n",
    "    else: # today's sunrise has not risen yet\n",
    "        print('using yesterday\\'s midnight')\n",
    "        yesterdayMidnight = todayMidnight - timedelta(days=1)\n",
    "        midnight = yesterdayMidnight\n",
    "    return midnight\n",
    "\n",
    "def get_times(midnight):\n",
    "    deltaMidnight = np.linspace(-6, 6, 20)*u.hour\n",
    "    return midnight+deltaMidnight\n",
    "\n",
    "def get_target_frame():\n",
    "    now = Time(datetime.now())\n",
    "    midnight = get_midnight(now)\n",
    "    times = get_times(midnight)\n",
    "    tgtFrame = AltAz(obstime=times, location=keck)\n",
    "    return tgtFrame\n",
    "\n",
    "def get_target_traj(ra, dec):\n",
    "    tgt = SkyCoord(ra=ra, dec=dec, frame='icrs', unit=(u.hourangle, u.deg))\n",
    "    tgtFrame = get_target_frame()\n",
    "    tgtTraj = tgt.transform_to(tgtFrame)\n",
    "    return tgtTraj \n",
    "\n",
    "def get_air_mass(ra, dec):\n",
    "    tgt = SkyCoord(ra=ra, dec=dec, frame='icrs', unit=(u.hourangle, u.deg))\n",
    "    tgtTraj = get_target_traj(tgt)\n",
    "    return tgtTraj.secz\n",
    "\n",
    "def get_parallactic_angle(ra, dec):\n",
    "    tgt = SkyCoord(ra=ra, dec=dec, frame='icrs', unit=(u.hourangle, u.deg))\n",
    "    now = Time(datetime.now() - timedelta(hours=hourOffset))\n",
    "    midnight = get_midnight(now)\n",
    "    times = get_times(midnight)\n",
    "    return keckObs.parallactic_angle(times, tgt).deg # in deg\n",
    "\n",
    "def get_lunar_angle(ra, dec):\n",
    "    tgt = SkyCoord(ra=ra, dec=dec, frame='icrs', unit=(u.hourangle, u.deg))\n",
    "    tgtFrame = get_target_frame()\n",
    "    tgtTraj = tgt.transform_to(tgtFrame)\n",
    "    now = Time(datetime.now() - timedelta(hours=hourOffset))\n",
    "    midnight = get_midnight(now)\n",
    "    times = get_times(midnight)\n",
    "    moonTraj = get_moon(times, location=keck).transform_to(tgtFrame) # can be costly\n",
    "    latLngTgtMoon = list(zip(tgtTraj.az, tgtTraj.alt, moonTraj.az, moonTraj.alt))\n",
    "    latLngTgtMoon = [ [x.radian for x in sublist] for sublist in latLngTgtMoon ]\n",
    "    angleOfSeparation = [angular_separation(*x) / DEG_TO_RAD for x in latLngTgtMoon] # in deg\n",
    "    return angleOfSeparation"
   ]
  }
 ],
 "metadata": {
  "interpreter": {
   "hash": "07dbbb7659ece2bfca23192ae1de2451bfb8732e5db1bc0d31659f556c8cd09f"
  },
  "kernelspec": {
   "display_name": "Python 3 (ipykernel)",
   "language": "python",
   "name": "python3"
  },
  "language_info": {
   "codemirror_mode": {
    "name": "ipython",
    "version": 3
   },
   "file_extension": ".py",
   "mimetype": "text/x-python",
   "name": "python",
   "nbconvert_exporter": "python",
   "pygments_lexer": "ipython3",
   "version": "3.9.1"
  }
 },
 "nbformat": 4,
 "nbformat_minor": 5
}
