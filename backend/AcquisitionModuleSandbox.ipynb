{
 "cells": [
  {
   "cell_type": "code",
   "execution_count": 29,
   "id": "63f3de53-fcf5-4a59-8803-e8d586d79060",
   "metadata": {},
   "outputs": [],
   "source": [
    "def foo():\n",
    "    #raise Exception('an error inside foo')\n",
    "    print('inside foo')"
   ]
  },
  {
   "cell_type": "code",
   "execution_count": 30,
   "id": "8bdb006c-5901-40d5-9ee5-09b05c71f183",
   "metadata": {},
   "outputs": [],
   "source": [
    "def deco(fun):\n",
    "    def f():\n",
    "        print('inside deco')\n",
    "        return fun()\n",
    "    return f\n",
    "\n",
    "def neva_fail(fun):\n",
    "    def f():\n",
    "        try:\n",
    "            return fun()\n",
    "        except Exception as err:\n",
    "            print(f'an err: {err}')\n",
    "    return f"
   ]
  },
  {
   "cell_type": "code",
   "execution_count": 31,
   "id": "0e26cf3a-37da-466a-b74e-da95b9a37fca",
   "metadata": {},
   "outputs": [
    {
     "name": "stdout",
     "output_type": "stream",
     "text": [
      "inside deco\n",
      "inside foo\n"
     ]
    }
   ],
   "source": [
    "neva_fail(deco(foo))()"
   ]
  },
  {
   "cell_type": "code",
   "execution_count": 32,
   "id": "3a2cdd5f-b8e8-4e9c-a6b7-9f697b11adb8",
   "metadata": {},
   "outputs": [],
   "source": [
    "@neva_fail\n",
    "@deco\n",
    "def foo2():\n",
    "    return foo()"
   ]
  },
  {
   "cell_type": "code",
   "execution_count": 33,
   "id": "6f3ec7e8-3d0e-4c9a-8323-bc243d15cf13",
   "metadata": {},
   "outputs": [
    {
     "name": "stdout",
     "output_type": "stream",
     "text": [
      "inside deco\n",
      "inside foo\n"
     ]
    }
   ],
   "source": [
    "foo2()"
   ]
  },
  {
   "cell_type": "code",
   "execution_count": 37,
   "id": "3f316921-0d8b-4e70-88cc-43f5c3bb1a3e",
   "metadata": {},
   "outputs": [
    {
     "ename": "SyntaxError",
     "evalue": "invalid syntax (21070375.py, line 2)",
     "output_type": "error",
     "traceback": [
      "\u001b[0;36m  File \u001b[0;32m\"/tmp/ipykernel_215729/21070375.py\"\u001b[0;36m, line \u001b[0;32m2\u001b[0m\n\u001b[0;31m    deco(foo)\u001b[0m\n\u001b[0m    ^\u001b[0m\n\u001b[0;31mSyntaxError\u001b[0m\u001b[0;31m:\u001b[0m invalid syntax\n"
     ]
    }
   ],
   "source": [
    "@neva_fail\n",
    "deco(foo)"
   ]
  },
  {
   "cell_type": "code",
   "execution_count": 1,
   "id": "5e737c16-7ed7-43e2-a905-c96d4bf73682",
   "metadata": {},
   "outputs": [],
   "source": [
    "# an example event queue command\n",
    "event = \"SlewTo(100.0,45.0)..with..a..XYOffset(5,5)..and..track()\""
   ]
  },
  {
   "cell_type": "code",
   "execution_count": null,
   "id": "2827ae44-5da5-4433-96e1-df2a70c290e8",
   "metadata": {},
   "outputs": [],
   "source": [
    "def point_to_az_el(*args): # slew\n",
    "    pass\n",
    "\n",
    "def slew_to_az_el(*args): # slew and maintian az, el position\n",
    "    pass\n",
    "\n",
    "def halt_telescope(*args):\n",
    "    pass\n",
    "\n",
    "def offset_ra_dec(*args):\n",
    "    pass\n",
    "\n",
    "def offset_x_y(*args):\n",
    "    pass\n",
    "\n",
    "\n",
    "\n",
    "acqKeys = (\"SlewTo\", \"XYOffset\", ]\n",
    "def translate_sub_event():"
   ]
  },
  {
   "cell_type": "code",
   "execution_count": 39,
   "id": "4be2c336-97ed-4a70-bde0-df83559e7d58",
   "metadata": {},
   "outputs": [
    {
     "name": "stdout",
     "output_type": "stream",
     "text": [
      "SlewTo(100.0,45.0)\n",
      "XYOffset(5,5)\n",
      "track()\n"
     ]
    }
   ],
   "source": [
    "fStr = [x for x in event.split('..') if '(' in x]\n",
    "\n",
    "for f in fStr:\n",
    "    print(f)\n"
   ]
  },
  {
   "cell_type": "code",
   "execution_count": null,
   "id": "55dd9393-cd0e-4796-ae10-0c36dfa17b06",
   "metadata": {},
   "outputs": [],
   "source": []
  },
  {
   "cell_type": "code",
   "execution_count": null,
   "id": "f487017f-a0d9-48dc-ad65-9cb19909a4f8",
   "metadata": {},
   "outputs": [],
   "source": []
  },
  {
   "cell_type": "code",
   "execution_count": null,
   "id": "7b9304bc-1ad9-4662-8617-72834f7a8e07",
   "metadata": {},
   "outputs": [],
   "source": []
  },
  {
   "cell_type": "code",
   "execution_count": 31,
   "id": "7b926528-e6d6-4bc5-8914-a192677487f0",
   "metadata": {},
   "outputs": [],
   "source": [
    "import time\n",
    "\n",
    "def set_exposure_time_blue(exposure_time):\n",
    "    print(f'[KCWI]Setting blue camera exposure time to {exposure_time}')\n",
    "\n",
    "def load_configuration(grating_blue, cwave_blue, grating_red, cwave_red, slicer):\n",
    "    print(f'[KCWI]Setting KCWI configuration to: {grating_blue} at {cwave_blue}, '\n",
    "          f'{grating_red} at {cwave_red},'\n",
    "          f'with slicer {slicer}')\n",
    "\n",
    "def set_observation_type(type):\n",
    "    if type == \"T\":\n",
    "        observation_type = \"Target\"\n",
    "    elif type == \"S\":\n",
    "        observation_type = \"Sky\"\n",
    "    else:\n",
    "        observation_type = \"Undefined\"\n",
    "    print(f'[KCWI] Setting KCWI observation type to {observation_type}')\n",
    "\n",
    "def start_exposure_blue():\n",
    "    print(f'[KCWI] Checking telescope')\n",
    "    print(f'[KCWI] Checking guider')\n",
    "    print(f'[KCWI] Checking instrument')\n",
    "    print(f'[KCWI] Exposing on blue camera')\n",
    "    time.sleep(1)\n",
    "    return \"raw_file\"\n",
    "\n",
    "def offset(ra_offset, dec_offset):\n",
    "    print(f'[K2] Offsetting K2 telescope by {ra_offset}, {dec_offset}')\n",
    "    print(f'[K2] Waiting for telescope to settle...')\n",
    "    time.sleep(1)\n",
    "    \n",
    "def guiding_mode(mode):\n",
    "    print(f'[Guider] Setting guiding mode to {mode}')\n",
    "\n",
    "def start_guiding():\n",
    "    print(f'[Guider] Start guiding')\n",
    "    print(f'[Guider] Wait for guiding...')\n",
    "    time.sleep(1)\n",
    "    \n",
    "def send_file_to_drp(filename):\n",
    "    print(f'[DRP] Sending {filename} to DRP server')\n",
    "    print(f'[DRP] Trigger <ingest_file> on KCWI_DRP')\n",
    "    time.sleep(1)"
   ]
  },
  {
   "cell_type": "code",
   "execution_count": null,
   "id": "6d7a2056-b51d-49b0-8aea-e04c68a28519",
   "metadata": {},
   "outputs": [],
   "source": []
  },
  {
   "cell_type": "code",
   "execution_count": 32,
   "id": "7129b5a9-8fed-4ee9-92fc-eca18063f492",
   "metadata": {},
   "outputs": [],
   "source": [
    "class ObservingScript():\n",
    "    \n",
    "    def __init__(self):\n",
    "        self.name = None\n",
    "        self.version = None\n",
    "        self.observation = None\n",
    "        self.observation_parameters = None\n",
    "    \n",
    "    def loadMetadata(self):\n",
    "        self.metadata = self.observation['metadata']\n",
    "        self.name = self.metadata['name']\n",
    "        self.version = self.metadata['version']\n",
    "        \n",
    "    def loadParameters(self):\n",
    "        self.observation_parameters = self.observation['observation_parameters']\n",
    "        \n",
    "    def loadObservation(self):\n",
    "        self.loadMetadata()\n",
    "        self.loadParameters()\n",
    "        \n",
    "    def _pre_condition(self):\n",
    "        return True\n",
    "\n",
    "    def _post_condition(self):\n",
    "        return True\n",
    "\n",
    "    def _get_value(self, key):\n",
    "        try:\n",
    "            return self.observation_parameters[key]\n",
    "        except KeyError:\n",
    "            return \"Undefined\"\n",
    "    \n",
    "    def diagnostic(self):\n",
    "        for key in list(self.observation_parameters.keys()):\n",
    "            print(\"%s -> %s\" % (key, str(self._get_value(key))))\n",
    "    \n",
    "    def _perform(self):\n",
    "        raise Exception(\"Not yet implemented\")\n",
    "\n",
    "    def apply(self):\n",
    "        self.loadObservation()\n",
    "        if self._pre_condition():\n",
    "            self.output = self._perform()\n",
    "            if self._post_condition():\n",
    "                return self.output\n",
    "        return None\n",
    "\n",
    "    def __call__(self):\n",
    "        \"\"\"\n",
    "        Makes objects of this calls callable.\n",
    "        \"\"\"\n",
    "        return self.apply()\n",
    "    \n",
    "class KCWI_ifu_sci_dither_script(ObservingScript):\n",
    "    \n",
    "    def __init__(self):\n",
    "        ObservingScript.__init__(self)\n",
    "        self.template = None\n",
    "        \n",
    "    def _perform(self):\n",
    "        set_exposure_time_blue(self._get_value('DET1.EXPTIME'))\n",
    "        load_configuration(\n",
    "                grating_blue = self._get_value('CFG.CAM1.GRATING'), \n",
    "                cwave_blue = self._get_value('CFG.CAM1.CWAVE'),\n",
    "                grating_red = self._get_value('CFG.CAM2.GRATING'),\n",
    "                cwave_red = self._get_value('CFG.CAM2.CWAVE'),\n",
    "                slicer = self._get_value('CFG.SLICER'))\n",
    "        dither_counter = 1\n",
    "        number_of_positions = self._get_value('SEQ.NDITHER')\n",
    "        for dither in self._get_value('SEQ.DITARRAY'):\n",
    "            print(f'\\n--- Offset position {dither_counter} of {number_of_positions}')\n",
    "            offset(dither[0], dither[1])\n",
    "            set_observation_type(dither[2])\n",
    "            guiding_mode(dither[3])\n",
    "            if dither[3] == 'Guided':\n",
    "                start_guiding()\n",
    "            filename = start_exposure_blue()\n",
    "            send_file_to_drp(filename)\n",
    "            dither_counter += 1"
   ]
  },
  {
   "cell_type": "code",
   "execution_count": null,
   "id": "775be5e6-d796-4ef0-8ae9-5a32bfd79369",
   "metadata": {},
   "outputs": [],
   "source": [
    "class KCWI_ifu_sci_dither_script(ObservingScript):\n",
    "    \n",
    "    def __init__(self):\n",
    "        ObservingScript.__init__(self)\n",
    "        self.template = None\n",
    "        \n",
    "    def _perform(self):\n",
    "        set_exposure_time_blue(self._get_value('DET1.EXPTIME'))\n",
    "        load_configuration(\n",
    "                grating_blue = self._get_value('CFG.CAM1.GRATING'), \n",
    "                cwave_blue = self._get_value('CFG.CAM1.CWAVE'),\n",
    "                grating_red = self._get_value('CFG.CAM2.GRATING'),\n",
    "                cwave_red = self._get_value('CFG.CAM2.CWAVE'),\n",
    "                slicer = self._get_value('CFG.SLICER'))\n",
    "        dither_counter = 1\n",
    "        number_of_positions = self._get_value('SEQ.NDITHER')\n",
    "        for dither in self._get_value('SEQ.DITARRAY'):\n",
    "            print(f'\\n--- Offset position {dither_counter} of {number_of_positions}')\n",
    "            offset(dither[0], dither[1])\n",
    "            set_observation_type(dither[2])\n",
    "            guiding_mode(dither[3])\n",
    "            if dither[3] == 'Guided':\n",
    "                start_guiding()\n",
    "            filename = start_exposure_blue()\n",
    "            send_file_to_drp(filename)\n",
    "            dither_counter += 1"
   ]
  },
  {
   "cell_type": "code",
   "execution_count": 33,
   "id": "a7d70c07-4400-439b-abf7-a406ea8df649",
   "metadata": {},
   "outputs": [],
   "source": [
    "science_observation = {\n",
    "    \"metadata\": {\n",
    "        \"name\": \"KCWI_ifu_sci_dither\",\n",
    "        \"version\": \"0.1\"\n",
    "    },\n",
    "    \"observation_parameters\": {\n",
    "        \"DET1.EXPTIME\": 60,\n",
    "        \"DET1.NEXP\": 2,\n",
    "        \"DET2.EXPTIME\": 60,\n",
    "        \"DET2.NEXT\": 2,\n",
    "        \"CFG.CAM1.GRATING\": \"BM\",\n",
    "        \"CFG.CAM1.CWAVE\": 4500,\n",
    "        \"CFG.SLICER\": \"Medium\",\n",
    "        \"SEQ.NDITHER\": 4,\n",
    "        \"SEQ.DITARRAY\": [\n",
    "            [0,0,\"T\",\"Guided\"],\n",
    "            [5,5,\"T\",\"Guided\"],\n",
    "            [-10,-10, \"T\", \"Guided\"],\n",
    "            [30,30,\"S\",\"Unguided\"]\n",
    "            ]\n",
    "    }\n",
    "}\n"
   ]
  },
  {
   "cell_type": "code",
   "execution_count": 34,
   "id": "1d5ad238-0c4d-4e33-98c6-a4e8561bf597",
   "metadata": {},
   "outputs": [],
   "source": [
    "myscript = KCWI_ifu_sci_dither_script()\n",
    "myscript.observation = science_observation\n",
    "myscript.loadObservation()"
   ]
  },
  {
   "cell_type": "code",
   "execution_count": 35,
   "id": "b31a489a-6abc-4d76-a3e7-4fdee97a1061",
   "metadata": {},
   "outputs": [
    {
     "name": "stdout",
     "output_type": "stream",
     "text": [
      "DET1.EXPTIME -> 60\n",
      "DET1.NEXP -> 2\n",
      "DET2.EXPTIME -> 60\n",
      "DET2.NEXT -> 2\n",
      "CFG.CAM1.GRATING -> BM\n",
      "CFG.CAM1.CWAVE -> 4500\n",
      "CFG.SLICER -> Medium\n",
      "SEQ.NDITHER -> 4\n",
      "SEQ.DITARRAY -> [[0, 0, 'T', 'Guided'], [5, 5, 'T', 'Guided'], [-10, -10, 'T', 'Guided'], [30, 30, 'S', 'Unguided']]\n",
      "[KCWI]Setting blue camera exposure time to 60\n",
      "[KCWI]Setting KCWI configuration to: BM at 4500, Undefined at Undefined,with slicer Medium\n",
      "\n",
      "--- Offset position 1 of 4\n",
      "[K2] Offsetting K2 telescope by 0, 0\n",
      "[K2] Waiting for telescope to settle...\n",
      "[KCWI] Setting KCWI observation type to Target\n",
      "[Guider] Setting guiding mode to Guided\n",
      "[Guider] Start guiding\n",
      "[Guider] Wait for guiding...\n",
      "[KCWI] Checking telescope\n",
      "[KCWI] Checking guider\n",
      "[KCWI] Checking instrument\n",
      "[KCWI] Exposing on blue camera\n",
      "[DRP] Sending raw_file to DRP server\n",
      "[DRP] Trigger <ingest_file> on KCWI_DRP\n",
      "\n",
      "--- Offset position 2 of 4\n",
      "[K2] Offsetting K2 telescope by 5, 5\n",
      "[K2] Waiting for telescope to settle...\n",
      "[KCWI] Setting KCWI observation type to Target\n",
      "[Guider] Setting guiding mode to Guided\n",
      "[Guider] Start guiding\n",
      "[Guider] Wait for guiding...\n",
      "[KCWI] Checking telescope\n",
      "[KCWI] Checking guider\n",
      "[KCWI] Checking instrument\n",
      "[KCWI] Exposing on blue camera\n",
      "[DRP] Sending raw_file to DRP server\n",
      "[DRP] Trigger <ingest_file> on KCWI_DRP\n",
      "\n",
      "--- Offset position 3 of 4\n",
      "[K2] Offsetting K2 telescope by -10, -10\n",
      "[K2] Waiting for telescope to settle...\n",
      "[KCWI] Setting KCWI observation type to Target\n",
      "[Guider] Setting guiding mode to Guided\n",
      "[Guider] Start guiding\n",
      "[Guider] Wait for guiding...\n",
      "[KCWI] Checking telescope\n",
      "[KCWI] Checking guider\n",
      "[KCWI] Checking instrument\n",
      "[KCWI] Exposing on blue camera\n",
      "[DRP] Sending raw_file to DRP server\n",
      "[DRP] Trigger <ingest_file> on KCWI_DRP\n",
      "\n",
      "--- Offset position 4 of 4\n",
      "[K2] Offsetting K2 telescope by 30, 30\n",
      "[K2] Waiting for telescope to settle...\n",
      "[KCWI] Setting KCWI observation type to Sky\n",
      "[Guider] Setting guiding mode to Unguided\n",
      "[KCWI] Checking telescope\n",
      "[KCWI] Checking guider\n",
      "[KCWI] Checking instrument\n",
      "[KCWI] Exposing on blue camera\n",
      "[DRP] Sending raw_file to DRP server\n",
      "[DRP] Trigger <ingest_file> on KCWI_DRP\n"
     ]
    }
   ],
   "source": [
    "myscript.diagnostic()\n",
    "\n",
    "myscript.apply()\n",
    "\n"
   ]
  },
  {
   "cell_type": "code",
   "execution_count": null,
   "id": "b24e79d8-b9c0-430d-a5b9-3f00ea39ba33",
   "metadata": {},
   "outputs": [],
   "source": []
  }
 ],
 "metadata": {
  "kernelspec": {
   "display_name": "Python 3.8.5 64-bit ('firstEnv': conda)",
   "language": "python",
   "name": "python385jvsc74a57bd007dbbb7659ece2bfca23192ae1de2451bfb8732e5db1bc0d31659f556c8cd09f"
  },
  "language_info": {
   "codemirror_mode": {
    "name": "ipython",
    "version": 3
   },
   "file_extension": ".py",
   "mimetype": "text/x-python",
   "name": "python",
   "nbconvert_exporter": "python",
   "pygments_lexer": "ipython3",
   "version": "3.8.5"
  }
 },
 "nbformat": 4,
 "nbformat_minor": 5
}
